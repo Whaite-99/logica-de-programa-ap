{
  "nbformat": 4,
  "nbformat_minor": 0,
  "metadata": {
    "colab": {
      "provenance": []
    },
    "kernelspec": {
      "name": "python3",
      "display_name": "Python 3"
    },
    "language_info": {
      "name": "python"
    }
  },
  "cells": [
    {
      "cell_type": "markdown",
      "source": [
        "# Conheça as estruturas condicionais"
      ],
      "metadata": {
        "id": "Eind7llo3d8Y"
      }
    },
    {
      "cell_type": "code",
      "source": [
        "# If\n",
        "if 5 < 10:\n",
        "  print('verdade')"
      ],
      "metadata": {
        "colab": {
          "base_uri": "https://localhost:8080/"
        },
        "id": "JiUyoceB3jc9",
        "outputId": "478bbd12-54d8-4c9a-fbe5-144510937e8c"
      },
      "execution_count": 1,
      "outputs": [
        {
          "output_type": "stream",
          "name": "stdout",
          "text": [
            "verdade\n"
          ]
        }
      ]
    },
    {
      "cell_type": "code",
      "source": [
        "# If / Else\n",
        "num1 = 10\n",
        "num2 = 5\n",
        "if num1 > num2:\n",
        "  print('num1 é maior que num2')\n",
        "else:\n",
        "  print('num2 é maior que num1')"
      ],
      "metadata": {
        "colab": {
          "base_uri": "https://localhost:8080/"
        },
        "id": "ZoMVAmlS4wF4",
        "outputId": "dbee14bc-0d26-46c0-c5fb-3b2787088bbe"
      },
      "execution_count": 2,
      "outputs": [
        {
          "output_type": "stream",
          "name": "stdout",
          "text": [
            "num1 é maior que num2\n"
          ]
        }
      ]
    },
    {
      "cell_type": "code",
      "source": [
        "# If / Elif / Else\n",
        "num1 = 10\n",
        "num2 = 10\n",
        "if num1 > num2:\n",
        "  print('num1 é maior que num2')\n",
        "elif num1 < num2:\n",
        "  print('num2 é maior que num1')\n",
        "else:\n",
        "  print('num1 e num2 são iguais')"
      ],
      "metadata": {
        "colab": {
          "base_uri": "https://localhost:8080/"
        },
        "id": "1dpgIKgr5UDb",
        "outputId": "156679ce-a76c-4da7-b708-16af28623d6c"
      },
      "execution_count": 3,
      "outputs": [
        {
          "output_type": "stream",
          "name": "stdout",
          "text": [
            "num1 e num2 são iguais\n"
          ]
        }
      ]
    },
    {
      "cell_type": "markdown",
      "source": [
        "# Condicional com operadores lógicos"
      ],
      "metadata": {
        "id": "H8j3YlVl6Q5C"
      }
    },
    {
      "cell_type": "code",
      "source": [
        "num1 = 10\n",
        "num2 = 5\n",
        "num3 = 2\n",
        "if (num1 > num2) and (num1 > num3):\n",
        "  print('num1 é o maior número')\n",
        "else:\n",
        "  print('num1 não é o maior númeor')"
      ],
      "metadata": {
        "colab": {
          "base_uri": "https://localhost:8080/"
        },
        "id": "m1_GcKE56VzJ",
        "outputId": "8450d8e9-deed-4838-82ae-86b2e9ef1059"
      },
      "execution_count": 4,
      "outputs": [
        {
          "output_type": "stream",
          "name": "stdout",
          "text": [
            "num1 é o maior número\n"
          ]
        }
      ]
    },
    {
      "cell_type": "markdown",
      "source": [
        "# Utilizando lista de dados:"
      ],
      "metadata": {
        "id": "dSfU4j4969ns"
      }
    },
    {
      "cell_type": "code",
      "source": [
        "# Lista\n",
        "[1,2,3,4,5]"
      ],
      "metadata": {
        "colab": {
          "base_uri": "https://localhost:8080/"
        },
        "id": "tL0tElS87A32",
        "outputId": "36daed39-c0bf-4419-f284-bd2c4ab5d79e"
      },
      "execution_count": 5,
      "outputs": [
        {
          "output_type": "execute_result",
          "data": {
            "text/plain": [
              "[1, 2, 3, 4, 5]"
            ]
          },
          "metadata": {},
          "execution_count": 5
        }
      ]
    },
    {
      "cell_type": "code",
      "source": [
        "# Tupla\n",
        "(1,2,3,4,5)"
      ],
      "metadata": {
        "colab": {
          "base_uri": "https://localhost:8080/"
        },
        "id": "oC7c1CGM7M43",
        "outputId": "e59e22a9-7a09-41a0-b9dc-157472447cd8"
      },
      "execution_count": 6,
      "outputs": [
        {
          "output_type": "execute_result",
          "data": {
            "text/plain": [
              "(1, 2, 3, 4, 5)"
            ]
          },
          "metadata": {},
          "execution_count": 6
        }
      ]
    },
    {
      "cell_type": "code",
      "source": [
        "# Dicionário\n",
        "{'num1': 1, 'num2': 2}"
      ],
      "metadata": {
        "colab": {
          "base_uri": "https://localhost:8080/"
        },
        "id": "2U6mx1HQ7SGc",
        "outputId": "65b41875-093e-4354-8bf1-45e36e07c0e4"
      },
      "execution_count": 7,
      "outputs": [
        {
          "output_type": "execute_result",
          "data": {
            "text/plain": [
              "{'num1': 1, 'num2': 2}"
            ]
          },
          "metadata": {},
          "execution_count": 7
        }
      ]
    },
    {
      "cell_type": "markdown",
      "source": [
        "# Lista"
      ],
      "metadata": {
        "id": "zTNhcxgP78QT"
      }
    },
    {
      "cell_type": "code",
      "source": [
        "lista = [5,'Rodrigo',8.9]\n"
      ],
      "metadata": {
        "id": "7cOUPuVd7-Pa"
      },
      "execution_count": 13,
      "outputs": []
    },
    {
      "cell_type": "code",
      "source": [
        "type(lista)"
      ],
      "metadata": {
        "colab": {
          "base_uri": "https://localhost:8080/"
        },
        "id": "b1m7m0498dbl",
        "outputId": "b0d31f93-d30f-45ca-f021-ecd6911476a1"
      },
      "execution_count": 14,
      "outputs": [
        {
          "output_type": "execute_result",
          "data": {
            "text/plain": [
              "list"
            ]
          },
          "metadata": {},
          "execution_count": 14
        }
      ]
    },
    {
      "cell_type": "code",
      "source": [
        "lista.append('Whaite')    # Adicionar um elemento no final da lista\n",
        "print(lista)\n",
        "print(lista[1])"
      ],
      "metadata": {
        "colab": {
          "base_uri": "https://localhost:8080/"
        },
        "id": "ICbXyvE08fvq",
        "outputId": "049c6c77-e43a-491b-fedf-7427bdd9ead4"
      },
      "execution_count": 15,
      "outputs": [
        {
          "output_type": "stream",
          "name": "stdout",
          "text": [
            "[5, 'Rodrigo', 8.9, 'Whaite']\n",
            "Rodrigo\n"
          ]
        }
      ]
    },
    {
      "cell_type": "markdown",
      "source": [
        "# Tupla"
      ],
      "metadata": {
        "id": "r4ftZ-my8z1O"
      }
    },
    {
      "cell_type": "code",
      "source": [
        "tupla = (5,'Rodrigo',8.9)"
      ],
      "metadata": {
        "id": "cMGvig5b81TZ"
      },
      "execution_count": 16,
      "outputs": []
    },
    {
      "cell_type": "code",
      "source": [
        "type(tupla)"
      ],
      "metadata": {
        "colab": {
          "base_uri": "https://localhost:8080/"
        },
        "id": "zazJ_Dtk9Fhs",
        "outputId": "c27225a8-0061-4696-f378-eb8e42879496"
      },
      "execution_count": 17,
      "outputs": [
        {
          "output_type": "execute_result",
          "data": {
            "text/plain": [
              "tuple"
            ]
          },
          "metadata": {},
          "execution_count": 17
        }
      ]
    },
    {
      "cell_type": "code",
      "source": [
        "tupla.append('Whaite')      # Não é possivel adicionar ou alterar na tupla"
      ],
      "metadata": {
        "colab": {
          "base_uri": "https://localhost:8080/",
          "height": 141
        },
        "id": "Wf0Nto9f9H7q",
        "outputId": "0599dd6e-cceb-47d2-a3e8-a3ba2a6e8051"
      },
      "execution_count": 18,
      "outputs": [
        {
          "output_type": "error",
          "ename": "AttributeError",
          "evalue": "'tuple' object has no attribute 'append'",
          "traceback": [
            "\u001b[0;31m---------------------------------------------------------------------------\u001b[0m",
            "\u001b[0;31mAttributeError\u001b[0m                            Traceback (most recent call last)",
            "\u001b[0;32m<ipython-input-18-494ff5c83569>\u001b[0m in \u001b[0;36m<cell line: 0>\u001b[0;34m()\u001b[0m\n\u001b[0;32m----> 1\u001b[0;31m \u001b[0mtupla\u001b[0m\u001b[0;34m.\u001b[0m\u001b[0mappend\u001b[0m\u001b[0;34m(\u001b[0m\u001b[0;34m'Whaite'\u001b[0m\u001b[0;34m)\u001b[0m      \u001b[0;31m# Não é possivel adicionar ou alterar na tupla\u001b[0m\u001b[0;34m\u001b[0m\u001b[0;34m\u001b[0m\u001b[0m\n\u001b[0m",
            "\u001b[0;31mAttributeError\u001b[0m: 'tuple' object has no attribute 'append'"
          ]
        }
      ]
    },
    {
      "cell_type": "code",
      "source": [
        "print(tupla)"
      ],
      "metadata": {
        "colab": {
          "base_uri": "https://localhost:8080/"
        },
        "id": "faLsEXbH9Si2",
        "outputId": "e56d32f4-7161-4736-a239-e65319ad866e"
      },
      "execution_count": 19,
      "outputs": [
        {
          "output_type": "stream",
          "name": "stdout",
          "text": [
            "(5, 'Rodrigo', 8.9)\n"
          ]
        }
      ]
    },
    {
      "cell_type": "markdown",
      "source": [
        "# Dicionário\n"
      ],
      "metadata": {
        "id": "Lzf-0CJV9V5X"
      }
    },
    {
      "cell_type": "code",
      "source": [
        "dicionário = {'nome':'Mário', 'cidade':'Orlândia'}"
      ],
      "metadata": {
        "id": "xI4PJf8Q9bDx"
      },
      "execution_count": 24,
      "outputs": []
    },
    {
      "cell_type": "code",
      "source": [
        "type(dicionário)"
      ],
      "metadata": {
        "colab": {
          "base_uri": "https://localhost:8080/"
        },
        "id": "L4ePqnwD_Yxw",
        "outputId": "b303a90b-9a10-46c8-c73e-5f92396394ee"
      },
      "execution_count": 21,
      "outputs": [
        {
          "output_type": "execute_result",
          "data": {
            "text/plain": [
              "dict"
            ]
          },
          "metadata": {},
          "execution_count": 21
        }
      ]
    },
    {
      "cell_type": "code",
      "source": [
        "print(dicionário)"
      ],
      "metadata": {
        "colab": {
          "base_uri": "https://localhost:8080/"
        },
        "id": "4flH-OCE_eFx",
        "outputId": "0639f85a-72c9-45fa-959c-93c31df85ef0"
      },
      "execution_count": 25,
      "outputs": [
        {
          "output_type": "stream",
          "name": "stdout",
          "text": [
            "{'nome': 'Mário', 'cidade': 'Orlândia'}\n"
          ]
        }
      ]
    },
    {
      "cell_type": "code",
      "source": [
        "print(dicionário['nome'])"
      ],
      "metadata": {
        "colab": {
          "base_uri": "https://localhost:8080/"
        },
        "id": "Bt0qKWrj_hWu",
        "outputId": "aa96eaa1-289b-4269-db74-082b1c140293"
      },
      "execution_count": 26,
      "outputs": [
        {
          "output_type": "stream",
          "name": "stdout",
          "text": [
            "Mário\n"
          ]
        }
      ]
    },
    {
      "cell_type": "code",
      "source": [
        "dicionário['ultimo nome'] = 'Whaite'"
      ],
      "metadata": {
        "id": "vD8mO2Y4_odJ"
      },
      "execution_count": 29,
      "outputs": []
    },
    {
      "cell_type": "code",
      "source": [
        "print(dicionário)"
      ],
      "metadata": {
        "colab": {
          "base_uri": "https://localhost:8080/"
        },
        "id": "nEEuk3nF_7zg",
        "outputId": "ab956a5e-ec87-4198-bb1c-c5235e8b8422"
      },
      "execution_count": 30,
      "outputs": [
        {
          "output_type": "stream",
          "name": "stdout",
          "text": [
            "{'nome': 'Mário', 'cidade': 'Orlândia', 'ultimo nome': 'Whaite'}\n"
          ]
        }
      ]
    },
    {
      "cell_type": "markdown",
      "source": [
        "# Estruturas de repetição\n"
      ],
      "metadata": {
        "id": "HzjfNwQfAMEb"
      }
    },
    {
      "cell_type": "markdown",
      "source": [
        "## For"
      ],
      "metadata": {
        "id": "sZ4M46uxApwv"
      }
    },
    {
      "cell_type": "code",
      "source": [
        "# For Range\n",
        "for contador in range(10):\n",
        "  print(contador)"
      ],
      "metadata": {
        "colab": {
          "base_uri": "https://localhost:8080/"
        },
        "id": "VMK33m2jAPq5",
        "outputId": "ff1c6f1a-6254-40bb-fb03-3b67b04d0ada"
      },
      "execution_count": 32,
      "outputs": [
        {
          "output_type": "stream",
          "name": "stdout",
          "text": [
            "0\n",
            "1\n",
            "2\n",
            "3\n",
            "4\n",
            "5\n",
            "6\n",
            "7\n",
            "8\n",
            "9\n"
          ]
        }
      ]
    },
    {
      "cell_type": "code",
      "source": [
        "# For Range + Break\n",
        "for contador in range(1000):\n",
        "  print(contador)\n",
        "  if contador == 5:\n",
        "    break"
      ],
      "metadata": {
        "colab": {
          "base_uri": "https://localhost:8080/"
        },
        "id": "MJSnQXyjA3VP",
        "outputId": "e0ba65d3-b960-4418-ecd3-db3ce46f3ee6"
      },
      "execution_count": 34,
      "outputs": [
        {
          "output_type": "stream",
          "name": "stdout",
          "text": [
            "0\n",
            "1\n",
            "2\n",
            "3\n",
            "4\n",
            "5\n"
          ]
        }
      ]
    },
    {
      "cell_type": "code",
      "source": [
        "lista = ['teste1','teste2']\n"
      ],
      "metadata": {
        "id": "DQUNmxrMBXup"
      },
      "execution_count": 35,
      "outputs": []
    },
    {
      "cell_type": "code",
      "source": [
        "# For simples\n",
        "for val in lista:\n",
        "  print(val)"
      ],
      "metadata": {
        "colab": {
          "base_uri": "https://localhost:8080/"
        },
        "id": "hs5VwEcIBzf9",
        "outputId": "54f3e2d3-42f9-4f1c-d1e6-3f2dc50118b2"
      },
      "execution_count": 36,
      "outputs": [
        {
          "output_type": "stream",
          "name": "stdout",
          "text": [
            "teste1\n",
            "teste2\n"
          ]
        }
      ]
    },
    {
      "cell_type": "code",
      "source": [
        "# For com enumerate\n",
        "for indice, valor in enumerate(lista):\n",
        "  print(indice, valor)"
      ],
      "metadata": {
        "colab": {
          "base_uri": "https://localhost:8080/"
        },
        "id": "2nlIGKJCB9xO",
        "outputId": "42eb4d3a-30ed-4cdd-cda5-f28f210083ed"
      },
      "execution_count": 37,
      "outputs": [
        {
          "output_type": "stream",
          "name": "stdout",
          "text": [
            "0 teste1\n",
            "1 teste2\n"
          ]
        }
      ]
    },
    {
      "cell_type": "markdown",
      "source": [
        "# For com operadores compostos"
      ],
      "metadata": {
        "id": "FzkbTIWhCQPx"
      }
    },
    {
      "cell_type": "code",
      "source": [
        "lista2 = [2,3,4]\n"
      ],
      "metadata": {
        "id": "PI7XMPbrCTnL"
      },
      "execution_count": 38,
      "outputs": []
    },
    {
      "cell_type": "code",
      "source": [
        "for val in lista2:\n",
        "  val += 1\n",
        "  print(val)"
      ],
      "metadata": {
        "colab": {
          "base_uri": "https://localhost:8080/"
        },
        "id": "K-MhEBLIDBfF",
        "outputId": "6fa389ad-501e-48c0-a7c4-ad2cfc4c681a"
      },
      "execution_count": 39,
      "outputs": [
        {
          "output_type": "stream",
          "name": "stdout",
          "text": [
            "3\n",
            "4\n",
            "5\n"
          ]
        }
      ]
    },
    {
      "cell_type": "code",
      "source": [
        "for val in lista2:\n",
        "  val *= 2\n",
        "  print(val)"
      ],
      "metadata": {
        "colab": {
          "base_uri": "https://localhost:8080/"
        },
        "id": "QiWXHZidDLrE",
        "outputId": "484b60fb-7865-4368-ab26-ee55a5b324a4"
      },
      "execution_count": 40,
      "outputs": [
        {
          "output_type": "stream",
          "name": "stdout",
          "text": [
            "4\n",
            "6\n",
            "8\n"
          ]
        }
      ]
    },
    {
      "cell_type": "markdown",
      "source": [
        "# While"
      ],
      "metadata": {
        "id": "sbqZ5DmiENEV"
      }
    },
    {
      "cell_type": "code",
      "source": [
        "val = 1\n",
        "while(val < 6):\n",
        "  val *= 2\n",
        "  print(val)"
      ],
      "metadata": {
        "colab": {
          "base_uri": "https://localhost:8080/"
        },
        "id": "6hiqYWGlEO2h",
        "outputId": "0d0f85db-9885-4f98-8934-30b4e5dff0bc"
      },
      "execution_count": 42,
      "outputs": [
        {
          "output_type": "stream",
          "name": "stdout",
          "text": [
            "2\n",
            "4\n",
            "8\n"
          ]
        }
      ]
    },
    {
      "cell_type": "code",
      "source": [
        "val = 1\n",
        "while(val < 6):\n",
        "  val *= 2\n",
        "else:\n",
        "  print('valor de val é: ', val)"
      ],
      "metadata": {
        "colab": {
          "base_uri": "https://localhost:8080/"
        },
        "id": "64CVXcFpEidY",
        "outputId": "718e2e8b-c8dd-49ee-80fe-56e6e2845bec"
      },
      "execution_count": 43,
      "outputs": [
        {
          "output_type": "stream",
          "name": "stdout",
          "text": [
            "valor de val é:  8\n"
          ]
        }
      ]
    },
    {
      "cell_type": "code",
      "source": [
        "val = 10\n",
        "while(val < 6):\n",
        "  val *= 2\n",
        "else:\n",
        "  print('valor de val é: ', val)"
      ],
      "metadata": {
        "colab": {
          "base_uri": "https://localhost:8080/"
        },
        "id": "stYZv3z5E-E8",
        "outputId": "aef038ea-f7e5-4ec9-a79b-2f27bb423c3a"
      },
      "execution_count": 44,
      "outputs": [
        {
          "output_type": "stream",
          "name": "stdout",
          "text": [
            "valor de val é:  10\n"
          ]
        }
      ]
    }
  ]
}